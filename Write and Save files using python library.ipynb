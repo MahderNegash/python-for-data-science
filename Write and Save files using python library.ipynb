{
 "cells": [
  {
   "cell_type": "markdown",
   "id": "4271f287",
   "metadata": {},
   "source": [
    "# write and save files in python"
   ]
  },
  {
   "cell_type": "code",
   "execution_count": 9,
   "id": "2b113a9f",
   "metadata": {},
   "outputs": [],
   "source": [
    "#write line to a file\n",
    "file2= 'Example2.txt'\n",
    "with open(file2,'w') as writefile:\n",
    "    writefile.write('this is line A')"
   ]
  },
  {
   "cell_type": "code",
   "execution_count": 10,
   "id": "cdaaddd9",
   "metadata": {},
   "outputs": [
    {
     "name": "stdout",
     "output_type": "stream",
     "text": [
      "this is line A\n"
     ]
    }
   ],
   "source": [
    "# read to check if line is written\n",
    "with open(file2,'r')as testwritefile:\n",
    "    print(testwritefile.read())"
   ]
  },
  {
   "cell_type": "code",
   "execution_count": 11,
   "id": "22c71157",
   "metadata": {},
   "outputs": [],
   "source": [
    "# write lines to file\n",
    "with open(file2,'w') as writefile:\n",
    "    writefile.write('this line is B\\n')\n",
    "    writefile.write('this line is c\\n')"
   ]
  },
  {
   "cell_type": "code",
   "execution_count": 12,
   "id": "accc7653",
   "metadata": {
    "scrolled": true
   },
   "outputs": [
    {
     "name": "stdout",
     "output_type": "stream",
     "text": [
      "this line is B\n",
      "this line is c\n",
      "\n"
     ]
    }
   ],
   "source": [
    "# read to check if line is written\n",
    "with open(file2,'r')as testwritefile:\n",
    "    print(testwritefile.read())"
   ]
  },
  {
   "cell_type": "markdown",
   "id": "f3a0a6e0",
   "metadata": {},
   "source": [
    "# write a list to text file"
   ]
  },
  {
   "cell_type": "code",
   "execution_count": 13,
   "id": "4805e73d",
   "metadata": {},
   "outputs": [
    {
     "data": {
      "text/plain": [
       "['line one\\n', 'line two\\n', 'line three\\n', 'line four\\n', 'line five\\n']"
      ]
     },
     "execution_count": 13,
     "metadata": {},
     "output_type": "execute_result"
    }
   ],
   "source": [
    "#list\n",
    "lines=['line one\\n','line two\\n','line three\\n','line four\\n','line five\\n']\n",
    "lines"
   ]
  },
  {
   "cell_type": "code",
   "execution_count": 14,
   "id": "75897381",
   "metadata": {},
   "outputs": [
    {
     "name": "stdout",
     "output_type": "stream",
     "text": [
      "line one\n",
      "\n",
      "line two\n",
      "\n",
      "line three\n",
      "\n",
      "line four\n",
      "\n",
      "line five\n",
      "\n"
     ]
    }
   ],
   "source": [
    "with open(file2,'w') as writefile:\n",
    "    for line in lines:\n",
    "        print(line)\n",
    "        writefile.write(line)"
   ]
  },
  {
   "cell_type": "code",
   "execution_count": 16,
   "id": "06f1ae2d",
   "metadata": {},
   "outputs": [
    {
     "name": "stdout",
     "output_type": "stream",
     "text": [
      "line one\n",
      "line two\n",
      "line three\n",
      "line four\n",
      "line five\n",
      "\n"
     ]
    }
   ],
   "source": [
    "#verify if list is written to file\n",
    "with open(file2,'r') as testwritefile:\n",
    "    print(testwritefile.read())"
   ]
  },
  {
   "cell_type": "code",
   "execution_count": 17,
   "id": "d53bc956",
   "metadata": {},
   "outputs": [
    {
     "name": "stdout",
     "output_type": "stream",
     "text": [
      "see everything is gone\n",
      "\n"
     ]
    }
   ],
   "source": [
    "# mode 'w' overwrites everything in the file\n",
    "\n",
    "with open(file2,'w')as writefile:\n",
    "    writefile.write('see everything is gone\\n')\n",
    "with open(file2,'r') as readfile:\n",
    "    print(readfile.read())"
   ]
  },
  {
   "cell_type": "markdown",
   "id": "d89dcf59",
   "metadata": {},
   "source": [
    "# append with mode 'a'"
   ]
  },
  {
   "cell_type": "code",
   "execution_count": 19,
   "id": "927df94c",
   "metadata": {},
   "outputs": [],
   "source": [
    "# this helps us to write to a file without loosing exisitng data on it--append\n",
    "with open(file2,'a') as appendfile:\n",
    "    appendfile.write('line one\\n')\n",
    "    appendfile.write('line two\\n')\n",
    "    appendfile.write('line three\\n')"
   ]
  },
  {
   "cell_type": "code",
   "execution_count": 20,
   "id": "77753e38",
   "metadata": {},
   "outputs": [
    {
     "name": "stdout",
     "output_type": "stream",
     "text": [
      "see everything is gone\n",
      "line one\n",
      "line two\n",
      "line three\n",
      "\n"
     ]
    }
   ],
   "source": [
    "#verify write\n",
    "\n",
    "with open(file2,'r') as readfile:\n",
    "    print(readfile.read())"
   ]
  },
  {
   "cell_type": "markdown",
   "id": "a26ea96a",
   "metadata": {},
   "source": [
    "# mode modes which are more efficient \n",
    "r+ : Reading and writing. Cannot truncate the file.\n",
    "w+ : Writing and reading. Truncates the file.\n",
    "a+ : Appending and Reading. Creates a new file, if none exists. You dont have to dwell on the specifics of each mode for this lab."
   ]
  },
  {
   "cell_type": "code",
   "execution_count": 2,
   "id": "9c9b5650",
   "metadata": {},
   "outputs": [],
   "source": [
    "# append to a file, create one if doesnot exist\n",
    "with open('file3', 'a+') as appendfile:\n",
    "        appendfile.write(\"hello\")"
   ]
  },
  {
   "cell_type": "code",
   "execution_count": 3,
   "id": "24ab0ce4",
   "metadata": {},
   "outputs": [
    {
     "name": "stdout",
     "output_type": "stream",
     "text": [
      "hello\n"
     ]
    }
   ],
   "source": [
    "#verfify if file3 is created and appended\n",
    "with open('file3',\"r+\") as readfile:\n",
    "    print(readfile.read())"
   ]
  },
  {
   "cell_type": "markdown",
   "id": "36cc5c8f",
   "metadata": {},
   "source": [
    "# opening a file with 'a' or 'a+' is like opening a file and moving the cursor to the very end of file content. because of this read wont return anything."
   ]
  },
  {
   "cell_type": "code",
   "execution_count": 7,
   "id": "df8943f1",
   "metadata": {},
   "outputs": [
    {
     "name": "stdout",
     "output_type": "stream",
     "text": [
      "\n"
     ]
    }
   ],
   "source": [
    "#read won't retrun anything since file is opened with mode 'a'\n",
    "with open('file3', 'a+') as appendfile:\n",
    "        appendfile.write(\"add line\")\n",
    "        print(appendfile.read())"
   ]
  },
  {
   "cell_type": "markdown",
   "id": "3c007f46",
   "metadata": {},
   "source": [
    "# know where the cursor is\n",
    ".tell() - retruns the current position in bytes\n",
    ".seek(offset,from) - changes the position by 'offset' bytes with respect to 'from' which takes 0,1,2 as a value\n",
    "0 - beginging\n",
    "1 - relative to current position\n",
    "2 - end\n"
   ]
  },
  {
   "cell_type": "code",
   "execution_count": 8,
   "id": "8664fa85",
   "metadata": {},
   "outputs": [
    {
     "name": "stdout",
     "output_type": "stream",
     "text": [
      "initiallocation- 21\n"
     ]
    }
   ],
   "source": [
    "with open(\"file3\",'a+') as appendfile:\n",
    "    print('initiallocation- {}'.format(appendfile.tell()))"
   ]
  },
  {
   "cell_type": "code",
   "execution_count": 16,
   "id": "bb9edd88",
   "metadata": {},
   "outputs": [
    {
     "name": "stdout",
     "output_type": "stream",
     "text": [
      "initiallocation- 21\n",
      "nothing to read\n",
      "new location:0\n",
      "helloadd lineadd line\n",
      "location after read:21\n"
     ]
    }
   ],
   "source": [
    "#initial location\n",
    "with open(\"file3\",'a+') as appendfile:\n",
    "    print('initiallocation- {}'.format(appendfile.tell()))\n",
    "\n",
    "\n",
    "    data=appendfile.read()\n",
    "    if(not data): #in python empty strings return false\n",
    "        print(\"nothing to read\")\n",
    "    else:\n",
    "        print(data)\n",
    "\n",
    "#change location - move 0 byte from the begining\n",
    "    appendfile.seek(0,0)\n",
    "    print(\"new location:{}\".format(appendfile.tell()))\n",
    "    data=appendfile.read()\n",
    "    if(not data):\n",
    "        print(\"nothing to read\")\n",
    "    else:\n",
    "        print(data)\n",
    "\n",
    "#what happens to location after read is done?\n",
    "    print(\"location after read:{}\".format(appendfile.tell()))"
   ]
  },
  {
   "cell_type": "code",
   "execution_count": 25,
   "id": "221118f2",
   "metadata": {},
   "outputs": [
    {
     "name": "stdout",
     "output_type": "stream",
     "text": [
      "line one\n",
      "line two\n",
      "line three\n",
      "this is the end\n"
     ]
    }
   ],
   "source": [
    "with open('file3','r+') as testwritefile:\n",
    "    \n",
    "    data=testwritefile.readlines()\n",
    "    testwritefile.seek(0,0) #write to the begining of file\n",
    "    \n",
    "    testwritefile.write(\"line one\\n\")\n",
    "    testwritefile.write('line two\\n')\n",
    "    testwritefile.write('line three\\n')\n",
    "    testwritefile.write('this is the end')\n",
    "    \n",
    "    testwritefile.seek(0,0) #write to the begining of file\n",
    "    print(testwritefile.read())\n",
    "    "
   ]
  },
  {
   "cell_type": "code",
   "execution_count": 28,
   "id": "aa12e894",
   "metadata": {},
   "outputs": [
    {
     "name": "stdout",
     "output_type": "stream",
     "text": [
      "\n"
     ]
    }
   ],
   "source": [
    "with open('file3','r+') as testwritefile:\n",
    "    \n",
    "    data=testwritefile.readlines()\n",
    "    testwritefile.seek(0,0) #write to the begining of file\n",
    "    \n",
    "    testwritefile.write(\"line one\\n\")\n",
    "    testwritefile.write('line two\\n')\n",
    "    testwritefile.write('line three\\n')\n",
    "    testwritefile.write('this is the end')\n",
    "    \n",
    "    testwritefile.seek(0,0)\n",
    "    #truncate the file\n",
    "    testwritefile.truncate()\n",
    "    \n",
    "    \n",
    "    print(testwritefile.read())\n",
    "    "
   ]
  },
  {
   "cell_type": "markdown",
   "id": "313a4108",
   "metadata": {},
   "source": [
    "# copy from file to file"
   ]
  },
  {
   "cell_type": "code",
   "execution_count": 44,
   "id": "71932e19",
   "metadata": {},
   "outputs": [
    {
     "name": "stdout",
     "output_type": "stream",
     "text": [
      "line one\n",
      "line two\n",
      "line three\n",
      "this is the end\n"
     ]
    }
   ],
   "source": [
    "with open('file3','r+') as sourcefile:\n",
    "    \n",
    "    \n",
    "    sourcefile.seek(0,0) #write to the begining of file\n",
    "    \n",
    "    sourcefile.write(\"line one\\n\")\n",
    "    sourcefile.write('line two\\n')\n",
    "    sourcefile.write('line three\\n')\n",
    "    sourcefile.write('this is the end')\n",
    "    \n",
    "with open('file3','r+') as sourcefile:    \n",
    "    #write to destination file\n",
    "    with open('file4','w+') as destinationfile:\n",
    "        destinationfile.seek(0,0)\n",
    "        #destinationfile.truncate()\n",
    "        for line in sourcefile:\n",
    "            destinationfile.write(line)\n",
    "        destinationfile.seek(0,0)\n",
    "        print(destinationfile.read())"
   ]
  },
  {
   "cell_type": "code",
   "execution_count": null,
   "id": "97021044",
   "metadata": {},
   "outputs": [],
   "source": []
  }
 ],
 "metadata": {
  "kernelspec": {
   "display_name": "Python 3 (ipykernel)",
   "language": "python",
   "name": "python3"
  },
  "language_info": {
   "codemirror_mode": {
    "name": "ipython",
    "version": 3
   },
   "file_extension": ".py",
   "mimetype": "text/x-python",
   "name": "python",
   "nbconvert_exporter": "python",
   "pygments_lexer": "ipython3",
   "version": "3.9.6"
  }
 },
 "nbformat": 4,
 "nbformat_minor": 5
}
